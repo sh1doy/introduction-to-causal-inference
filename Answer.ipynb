{
 "cells": [
  {
   "cell_type": "markdown",
   "metadata": {},
   "source": [
    "# Part 1"
   ]
  },
  {
   "cell_type": "markdown",
   "metadata": {},
   "source": [
    "## Chapter 1.4"
   ]
  },
  {
   "cell_type": "markdown",
   "metadata": {},
   "source": [
    "### Section 1.4.1"
   ]
  },
  {
   "cell_type": "code",
   "execution_count": 1,
   "metadata": {},
   "outputs": [],
   "source": [
    "import pandas as pd\n",
    "from scipy import stats\n",
    "import joblib\n",
    "import numpy as np\n",
    "from collections import namedtuple"
   ]
  },
  {
   "cell_type": "code",
   "execution_count": 2,
   "metadata": {},
   "outputs": [],
   "source": [
    "df = pd.read_csv('http://www.minethatdata.com/Kevin_Hillstrom_MineThatData_E-MailAnalytics_DataMiningChallenge_2008.03.20.csv')"
   ]
  },
  {
   "cell_type": "code",
   "execution_count": 3,
   "metadata": {},
   "outputs": [
    {
     "data": {
      "text/html": [
       "<div>\n",
       "<style scoped>\n",
       "    .dataframe tbody tr th:only-of-type {\n",
       "        vertical-align: middle;\n",
       "    }\n",
       "\n",
       "    .dataframe tbody tr th {\n",
       "        vertical-align: top;\n",
       "    }\n",
       "\n",
       "    .dataframe thead th {\n",
       "        text-align: right;\n",
       "    }\n",
       "</style>\n",
       "<table border=\"1\" class=\"dataframe\">\n",
       "  <thead>\n",
       "    <tr style=\"text-align: right;\">\n",
       "      <th></th>\n",
       "      <th>recency</th>\n",
       "      <th>history_segment</th>\n",
       "      <th>history</th>\n",
       "      <th>mens</th>\n",
       "      <th>womens</th>\n",
       "      <th>zip_code</th>\n",
       "      <th>newbie</th>\n",
       "      <th>channel</th>\n",
       "      <th>segment</th>\n",
       "      <th>visit</th>\n",
       "      <th>conversion</th>\n",
       "      <th>spend</th>\n",
       "    </tr>\n",
       "  </thead>\n",
       "  <tbody>\n",
       "    <tr>\n",
       "      <th>0</th>\n",
       "      <td>10</td>\n",
       "      <td>2) $100 - $200</td>\n",
       "      <td>142.44</td>\n",
       "      <td>1</td>\n",
       "      <td>0</td>\n",
       "      <td>Surburban</td>\n",
       "      <td>0</td>\n",
       "      <td>Phone</td>\n",
       "      <td>Womens E-Mail</td>\n",
       "      <td>0</td>\n",
       "      <td>0</td>\n",
       "      <td>0.0</td>\n",
       "    </tr>\n",
       "    <tr>\n",
       "      <th>1</th>\n",
       "      <td>6</td>\n",
       "      <td>3) $200 - $350</td>\n",
       "      <td>329.08</td>\n",
       "      <td>1</td>\n",
       "      <td>1</td>\n",
       "      <td>Rural</td>\n",
       "      <td>1</td>\n",
       "      <td>Web</td>\n",
       "      <td>No E-Mail</td>\n",
       "      <td>0</td>\n",
       "      <td>0</td>\n",
       "      <td>0.0</td>\n",
       "    </tr>\n",
       "    <tr>\n",
       "      <th>2</th>\n",
       "      <td>7</td>\n",
       "      <td>2) $100 - $200</td>\n",
       "      <td>180.65</td>\n",
       "      <td>0</td>\n",
       "      <td>1</td>\n",
       "      <td>Surburban</td>\n",
       "      <td>1</td>\n",
       "      <td>Web</td>\n",
       "      <td>Womens E-Mail</td>\n",
       "      <td>0</td>\n",
       "      <td>0</td>\n",
       "      <td>0.0</td>\n",
       "    </tr>\n",
       "    <tr>\n",
       "      <th>3</th>\n",
       "      <td>9</td>\n",
       "      <td>5) $500 - $750</td>\n",
       "      <td>675.83</td>\n",
       "      <td>1</td>\n",
       "      <td>0</td>\n",
       "      <td>Rural</td>\n",
       "      <td>1</td>\n",
       "      <td>Web</td>\n",
       "      <td>Mens E-Mail</td>\n",
       "      <td>0</td>\n",
       "      <td>0</td>\n",
       "      <td>0.0</td>\n",
       "    </tr>\n",
       "    <tr>\n",
       "      <th>4</th>\n",
       "      <td>2</td>\n",
       "      <td>1) $0 - $100</td>\n",
       "      <td>45.34</td>\n",
       "      <td>1</td>\n",
       "      <td>0</td>\n",
       "      <td>Urban</td>\n",
       "      <td>0</td>\n",
       "      <td>Web</td>\n",
       "      <td>Womens E-Mail</td>\n",
       "      <td>0</td>\n",
       "      <td>0</td>\n",
       "      <td>0.0</td>\n",
       "    </tr>\n",
       "  </tbody>\n",
       "</table>\n",
       "</div>"
      ],
      "text/plain": [
       "   recency history_segment  history  mens  womens   zip_code  newbie channel  \\\n",
       "0       10  2) $100 - $200   142.44     1       0  Surburban       0   Phone   \n",
       "1        6  3) $200 - $350   329.08     1       1      Rural       1     Web   \n",
       "2        7  2) $100 - $200   180.65     0       1  Surburban       1     Web   \n",
       "3        9  5) $500 - $750   675.83     1       0      Rural       1     Web   \n",
       "4        2    1) $0 - $100    45.34     1       0      Urban       0     Web   \n",
       "\n",
       "         segment  visit  conversion  spend  \n",
       "0  Womens E-Mail      0           0    0.0  \n",
       "1      No E-Mail      0           0    0.0  \n",
       "2  Womens E-Mail      0           0    0.0  \n",
       "3    Mens E-Mail      0           0    0.0  \n",
       "4  Womens E-Mail      0           0    0.0  "
      ]
     },
     "execution_count": 3,
     "metadata": {},
     "output_type": "execute_result"
    }
   ],
   "source": [
    "df.head()"
   ]
  },
  {
   "cell_type": "code",
   "execution_count": 4,
   "metadata": {},
   "outputs": [],
   "source": [
    "# Implement (4)\n",
    "df_male = df.copy()[df[\"segment\"] != \"Womens E-Mail\"]\n",
    "df_male[\"treatment\"] = (df_male[\"segment\"].values == \"Mens E-Mail\").astype(int)"
   ]
  },
  {
   "cell_type": "code",
   "execution_count": 5,
   "metadata": {},
   "outputs": [
    {
     "data": {
      "text/html": [
       "<div>\n",
       "<style scoped>\n",
       "    .dataframe tbody tr th:only-of-type {\n",
       "        vertical-align: middle;\n",
       "    }\n",
       "\n",
       "    .dataframe tbody tr th {\n",
       "        vertical-align: top;\n",
       "    }\n",
       "\n",
       "    .dataframe thead th {\n",
       "        text-align: right;\n",
       "    }\n",
       "</style>\n",
       "<table border=\"1\" class=\"dataframe\">\n",
       "  <thead>\n",
       "    <tr style=\"text-align: right;\">\n",
       "      <th></th>\n",
       "      <th>recency</th>\n",
       "      <th>history_segment</th>\n",
       "      <th>history</th>\n",
       "      <th>mens</th>\n",
       "      <th>womens</th>\n",
       "      <th>zip_code</th>\n",
       "      <th>newbie</th>\n",
       "      <th>channel</th>\n",
       "      <th>segment</th>\n",
       "      <th>visit</th>\n",
       "      <th>conversion</th>\n",
       "      <th>spend</th>\n",
       "      <th>treatment</th>\n",
       "    </tr>\n",
       "  </thead>\n",
       "  <tbody>\n",
       "    <tr>\n",
       "      <th>1</th>\n",
       "      <td>6</td>\n",
       "      <td>3) $200 - $350</td>\n",
       "      <td>329.08</td>\n",
       "      <td>1</td>\n",
       "      <td>1</td>\n",
       "      <td>Rural</td>\n",
       "      <td>1</td>\n",
       "      <td>Web</td>\n",
       "      <td>No E-Mail</td>\n",
       "      <td>0</td>\n",
       "      <td>0</td>\n",
       "      <td>0.0</td>\n",
       "      <td>0</td>\n",
       "    </tr>\n",
       "    <tr>\n",
       "      <th>3</th>\n",
       "      <td>9</td>\n",
       "      <td>5) $500 - $750</td>\n",
       "      <td>675.83</td>\n",
       "      <td>1</td>\n",
       "      <td>0</td>\n",
       "      <td>Rural</td>\n",
       "      <td>1</td>\n",
       "      <td>Web</td>\n",
       "      <td>Mens E-Mail</td>\n",
       "      <td>0</td>\n",
       "      <td>0</td>\n",
       "      <td>0.0</td>\n",
       "      <td>1</td>\n",
       "    </tr>\n",
       "    <tr>\n",
       "      <th>8</th>\n",
       "      <td>9</td>\n",
       "      <td>5) $500 - $750</td>\n",
       "      <td>675.07</td>\n",
       "      <td>1</td>\n",
       "      <td>1</td>\n",
       "      <td>Rural</td>\n",
       "      <td>1</td>\n",
       "      <td>Phone</td>\n",
       "      <td>Mens E-Mail</td>\n",
       "      <td>0</td>\n",
       "      <td>0</td>\n",
       "      <td>0.0</td>\n",
       "      <td>1</td>\n",
       "    </tr>\n",
       "    <tr>\n",
       "      <th>13</th>\n",
       "      <td>2</td>\n",
       "      <td>2) $100 - $200</td>\n",
       "      <td>101.64</td>\n",
       "      <td>0</td>\n",
       "      <td>1</td>\n",
       "      <td>Urban</td>\n",
       "      <td>0</td>\n",
       "      <td>Web</td>\n",
       "      <td>Mens E-Mail</td>\n",
       "      <td>1</td>\n",
       "      <td>0</td>\n",
       "      <td>0.0</td>\n",
       "      <td>1</td>\n",
       "    </tr>\n",
       "    <tr>\n",
       "      <th>14</th>\n",
       "      <td>4</td>\n",
       "      <td>3) $200 - $350</td>\n",
       "      <td>241.42</td>\n",
       "      <td>0</td>\n",
       "      <td>1</td>\n",
       "      <td>Rural</td>\n",
       "      <td>1</td>\n",
       "      <td>Multichannel</td>\n",
       "      <td>No E-Mail</td>\n",
       "      <td>0</td>\n",
       "      <td>0</td>\n",
       "      <td>0.0</td>\n",
       "      <td>0</td>\n",
       "    </tr>\n",
       "  </tbody>\n",
       "</table>\n",
       "</div>"
      ],
      "text/plain": [
       "    recency history_segment  history  mens  womens zip_code  newbie  \\\n",
       "1         6  3) $200 - $350   329.08     1       1    Rural       1   \n",
       "3         9  5) $500 - $750   675.83     1       0    Rural       1   \n",
       "8         9  5) $500 - $750   675.07     1       1    Rural       1   \n",
       "13        2  2) $100 - $200   101.64     0       1    Urban       0   \n",
       "14        4  3) $200 - $350   241.42     0       1    Rural       1   \n",
       "\n",
       "         channel      segment  visit  conversion  spend  treatment  \n",
       "1            Web    No E-Mail      0           0    0.0          0  \n",
       "3            Web  Mens E-Mail      0           0    0.0          1  \n",
       "8          Phone  Mens E-Mail      0           0    0.0          1  \n",
       "13           Web  Mens E-Mail      1           0    0.0          1  \n",
       "14  Multichannel    No E-Mail      0           0    0.0          0  "
      ]
     },
     "execution_count": 5,
     "metadata": {},
     "output_type": "execute_result"
    }
   ],
   "source": [
    "df_male.head()"
   ]
  },
  {
   "cell_type": "code",
   "execution_count": 6,
   "metadata": {},
   "outputs": [],
   "source": [
    "# TEST (4)\n",
    "assert type(df_male) is pd.DataFrame  # 女性向けメールが配信されなかったグループのみ含むdf\n",
    "assert \"Womens E-Mail\" not in df_male[\"segment\"]  # 女性向けメールが配信されていない\n",
    "assert set(df_male[df_male[\"treatment\"] == 1][\"segment\"]) == set([\"Mens E-Mail\"])  # treatmentには男性向けメールが配信されたグループのみ\n",
    "assert set(df_male.keys()) == set(df.keys()).union(set([\"treatment\"]))"
   ]
  },
  {
   "cell_type": "markdown",
   "metadata": {},
   "source": [
    "### Section 1.4.2"
   ]
  },
  {
   "cell_type": "code",
   "execution_count": 7,
   "metadata": {},
   "outputs": [],
   "source": [
    "# Implement (5)\n",
    "df_aggregated = df_male.groupby('treatment').agg(\n",
    "    conversion_rate=pd.NamedAgg('conversion', 'mean'),\n",
    "    spend_mean=pd.NamedAgg('spend', 'mean'),\n",
    "    count=pd.NamedAgg('treatment', 'count'),\n",
    ")"
   ]
  },
  {
   "cell_type": "code",
   "execution_count": 8,
   "metadata": {},
   "outputs": [
    {
     "data": {
      "text/html": [
       "<div>\n",
       "<style scoped>\n",
       "    .dataframe tbody tr th:only-of-type {\n",
       "        vertical-align: middle;\n",
       "    }\n",
       "\n",
       "    .dataframe tbody tr th {\n",
       "        vertical-align: top;\n",
       "    }\n",
       "\n",
       "    .dataframe thead th {\n",
       "        text-align: right;\n",
       "    }\n",
       "</style>\n",
       "<table border=\"1\" class=\"dataframe\">\n",
       "  <thead>\n",
       "    <tr style=\"text-align: right;\">\n",
       "      <th></th>\n",
       "      <th>conversion_rate</th>\n",
       "      <th>spend_mean</th>\n",
       "      <th>count</th>\n",
       "    </tr>\n",
       "    <tr>\n",
       "      <th>treatment</th>\n",
       "      <th></th>\n",
       "      <th></th>\n",
       "      <th></th>\n",
       "    </tr>\n",
       "  </thead>\n",
       "  <tbody>\n",
       "    <tr>\n",
       "      <th>0</th>\n",
       "      <td>0.005726</td>\n",
       "      <td>0.652789</td>\n",
       "      <td>21306</td>\n",
       "    </tr>\n",
       "    <tr>\n",
       "      <th>1</th>\n",
       "      <td>0.012531</td>\n",
       "      <td>1.422617</td>\n",
       "      <td>21307</td>\n",
       "    </tr>\n",
       "  </tbody>\n",
       "</table>\n",
       "</div>"
      ],
      "text/plain": [
       "           conversion_rate  spend_mean  count\n",
       "treatment                                    \n",
       "0                 0.005726    0.652789  21306\n",
       "1                 0.012531    1.422617  21307"
      ]
     },
     "execution_count": 8,
     "metadata": {},
     "output_type": "execute_result"
    }
   ],
   "source": [
    "df_aggregated"
   ]
  },
  {
   "cell_type": "code",
   "execution_count": 9,
   "metadata": {},
   "outputs": [],
   "source": [
    "# TEST (5)\n",
    "assert type(df_aggregated) is pd.DataFrame  # 集計されたdf\n",
    "assert set([\"conversion_rate\", \"spend_mean\", \"count\"]).issubset(df_aggregated.keys())  # 指定のカラムを持つ\n",
    "assert (df_aggregated.sort_values(\"treatment\")[\"conversion_rate\"].values - np.array([0.005726, 0.01253])).sum() < 1e-4\n",
    "assert (df_aggregated.sort_values(\"treatment\")[\"spend_mean\"].values - np.array([0.652789, 1.422617])).sum() < 1e-4\n",
    "assert (df_aggregated.sort_values(\"treatment\")[\"count\"].values - np.array([21306, 21307])).sum() < 1e-4"
   ]
  },
  {
   "cell_type": "code",
   "execution_count": 10,
   "metadata": {},
   "outputs": [],
   "source": [
    "# Implement (6)\n",
    "ttest_result = stats.ttest_ind(\n",
    "    df_male[\"spend\"][df_male[\"treatment\"] == 1],\n",
    "    df_male[\"spend\"][df_male[\"treatment\"] == 0]\n",
    ")\n",
    "pvalue = float(ttest_result.pvalue)"
   ]
  },
  {
   "cell_type": "code",
   "execution_count": 11,
   "metadata": {},
   "outputs": [
    {
     "data": {
      "text/plain": [
       "1.163200872605869e-07"
      ]
     },
     "execution_count": 11,
     "metadata": {},
     "output_type": "execute_result"
    }
   ],
   "source": [
    "pvalue"
   ]
  },
  {
   "cell_type": "code",
   "execution_count": 12,
   "metadata": {},
   "outputs": [],
   "source": [
    "# TEST (6)\n",
    "assert type(pvalue) is float  # result of stats.ttest_ind\n",
    "assert pvalue < 0.05  # 有意"
   ]
  },
  {
   "cell_type": "markdown",
   "metadata": {},
   "source": [
    "### Section 1.4.3"
   ]
  },
  {
   "cell_type": "code",
   "execution_count": 13,
   "metadata": {},
   "outputs": [],
   "source": [
    "# Implement (7) - No tests. これ以降の乱数の影響をなくすため\n",
    "bias = (df_male.history > 300) | (df_male.recency < 6) | (df_male.channel=='Multichannel')\n",
    "df_biased = pd.concat([\n",
    "    df_male[(df_male[\"treatment\"] == 0) & bias].sample(frac=0.5, random_state=1),\n",
    "    df_male[(df_male[\"treatment\"] == 0) & ~bias],\n",
    "    df_male[(df_male[\"treatment\"] == 1) & bias],\n",
    "    df_male[(df_male[\"treatment\"] == 1) & ~bias].sample(frac=0.5, random_state=1),\n",
    "], ignore_index=True)"
   ]
  },
  {
   "cell_type": "code",
   "execution_count": 14,
   "metadata": {},
   "outputs": [
    {
     "data": {
      "text/html": [
       "<div>\n",
       "<style scoped>\n",
       "    .dataframe tbody tr th:only-of-type {\n",
       "        vertical-align: middle;\n",
       "    }\n",
       "\n",
       "    .dataframe tbody tr th {\n",
       "        vertical-align: top;\n",
       "    }\n",
       "\n",
       "    .dataframe thead th {\n",
       "        text-align: right;\n",
       "    }\n",
       "</style>\n",
       "<table border=\"1\" class=\"dataframe\">\n",
       "  <thead>\n",
       "    <tr style=\"text-align: right;\">\n",
       "      <th></th>\n",
       "      <th>recency</th>\n",
       "      <th>history_segment</th>\n",
       "      <th>history</th>\n",
       "      <th>mens</th>\n",
       "      <th>womens</th>\n",
       "      <th>zip_code</th>\n",
       "      <th>newbie</th>\n",
       "      <th>channel</th>\n",
       "      <th>segment</th>\n",
       "      <th>visit</th>\n",
       "      <th>conversion</th>\n",
       "      <th>spend</th>\n",
       "      <th>treatment</th>\n",
       "    </tr>\n",
       "  </thead>\n",
       "  <tbody>\n",
       "    <tr>\n",
       "      <th>0</th>\n",
       "      <td>8</td>\n",
       "      <td>5) $500 - $750</td>\n",
       "      <td>572.65</td>\n",
       "      <td>1</td>\n",
       "      <td>0</td>\n",
       "      <td>Urban</td>\n",
       "      <td>1</td>\n",
       "      <td>Web</td>\n",
       "      <td>No E-Mail</td>\n",
       "      <td>0</td>\n",
       "      <td>0</td>\n",
       "      <td>0.0</td>\n",
       "      <td>0</td>\n",
       "    </tr>\n",
       "    <tr>\n",
       "      <th>1</th>\n",
       "      <td>5</td>\n",
       "      <td>1) $0 - $100</td>\n",
       "      <td>42.38</td>\n",
       "      <td>1</td>\n",
       "      <td>0</td>\n",
       "      <td>Urban</td>\n",
       "      <td>1</td>\n",
       "      <td>Phone</td>\n",
       "      <td>No E-Mail</td>\n",
       "      <td>1</td>\n",
       "      <td>0</td>\n",
       "      <td>0.0</td>\n",
       "      <td>0</td>\n",
       "    </tr>\n",
       "    <tr>\n",
       "      <th>2</th>\n",
       "      <td>1</td>\n",
       "      <td>7) $1,000 +</td>\n",
       "      <td>3003.48</td>\n",
       "      <td>1</td>\n",
       "      <td>1</td>\n",
       "      <td>Urban</td>\n",
       "      <td>1</td>\n",
       "      <td>Phone</td>\n",
       "      <td>No E-Mail</td>\n",
       "      <td>0</td>\n",
       "      <td>0</td>\n",
       "      <td>0.0</td>\n",
       "      <td>0</td>\n",
       "    </tr>\n",
       "    <tr>\n",
       "      <th>3</th>\n",
       "      <td>1</td>\n",
       "      <td>5) $500 - $750</td>\n",
       "      <td>662.10</td>\n",
       "      <td>0</td>\n",
       "      <td>1</td>\n",
       "      <td>Urban</td>\n",
       "      <td>1</td>\n",
       "      <td>Web</td>\n",
       "      <td>No E-Mail</td>\n",
       "      <td>0</td>\n",
       "      <td>0</td>\n",
       "      <td>0.0</td>\n",
       "      <td>0</td>\n",
       "    </tr>\n",
       "    <tr>\n",
       "      <th>4</th>\n",
       "      <td>5</td>\n",
       "      <td>1) $0 - $100</td>\n",
       "      <td>44.37</td>\n",
       "      <td>0</td>\n",
       "      <td>1</td>\n",
       "      <td>Urban</td>\n",
       "      <td>0</td>\n",
       "      <td>Web</td>\n",
       "      <td>No E-Mail</td>\n",
       "      <td>0</td>\n",
       "      <td>0</td>\n",
       "      <td>0.0</td>\n",
       "      <td>0</td>\n",
       "    </tr>\n",
       "  </tbody>\n",
       "</table>\n",
       "</div>"
      ],
      "text/plain": [
       "   recency history_segment  history  mens  womens zip_code  newbie channel  \\\n",
       "0        8  5) $500 - $750   572.65     1       0    Urban       1     Web   \n",
       "1        5    1) $0 - $100    42.38     1       0    Urban       1   Phone   \n",
       "2        1     7) $1,000 +  3003.48     1       1    Urban       1   Phone   \n",
       "3        1  5) $500 - $750   662.10     0       1    Urban       1     Web   \n",
       "4        5    1) $0 - $100    44.37     0       1    Urban       0     Web   \n",
       "\n",
       "     segment  visit  conversion  spend  treatment  \n",
       "0  No E-Mail      0           0    0.0          0  \n",
       "1  No E-Mail      1           0    0.0          0  \n",
       "2  No E-Mail      0           0    0.0          0  \n",
       "3  No E-Mail      0           0    0.0          0  \n",
       "4  No E-Mail      0           0    0.0          0  "
      ]
     },
     "execution_count": 14,
     "metadata": {},
     "output_type": "execute_result"
    }
   ],
   "source": [
    "df_biased.head()"
   ]
  },
  {
   "cell_type": "code",
   "execution_count": 15,
   "metadata": {},
   "outputs": [],
   "source": [
    "# Implement (8)\n",
    "df_aggregated_biased = df_biased.groupby('treatment').agg(\n",
    "    conversion_rate=pd.NamedAgg('conversion', 'mean'),\n",
    "    spend_mean=pd.NamedAgg('spend', 'mean'),\n",
    "    count=pd.NamedAgg('treatment', 'count'),\n",
    ")"
   ]
  },
  {
   "cell_type": "code",
   "execution_count": 16,
   "metadata": {},
   "outputs": [
    {
     "data": {
      "text/html": [
       "<div>\n",
       "<style scoped>\n",
       "    .dataframe tbody tr th:only-of-type {\n",
       "        vertical-align: middle;\n",
       "    }\n",
       "\n",
       "    .dataframe tbody tr th {\n",
       "        vertical-align: top;\n",
       "    }\n",
       "\n",
       "    .dataframe thead th {\n",
       "        text-align: right;\n",
       "    }\n",
       "</style>\n",
       "<table border=\"1\" class=\"dataframe\">\n",
       "  <thead>\n",
       "    <tr style=\"text-align: right;\">\n",
       "      <th></th>\n",
       "      <th>conversion_rate</th>\n",
       "      <th>spend_mean</th>\n",
       "      <th>count</th>\n",
       "    </tr>\n",
       "    <tr>\n",
       "      <th>treatment</th>\n",
       "      <th></th>\n",
       "      <th></th>\n",
       "      <th></th>\n",
       "    </tr>\n",
       "  </thead>\n",
       "  <tbody>\n",
       "    <tr>\n",
       "      <th>0</th>\n",
       "      <td>0.004540</td>\n",
       "      <td>0.557954</td>\n",
       "      <td>14757</td>\n",
       "    </tr>\n",
       "    <tr>\n",
       "      <th>1</th>\n",
       "      <td>0.013572</td>\n",
       "      <td>1.541704</td>\n",
       "      <td>17168</td>\n",
       "    </tr>\n",
       "  </tbody>\n",
       "</table>\n",
       "</div>"
      ],
      "text/plain": [
       "           conversion_rate  spend_mean  count\n",
       "treatment                                    \n",
       "0                 0.004540    0.557954  14757\n",
       "1                 0.013572    1.541704  17168"
      ]
     },
     "execution_count": 16,
     "metadata": {},
     "output_type": "execute_result"
    }
   ],
   "source": [
    "df_aggregated_biased"
   ]
  },
  {
   "cell_type": "code",
   "execution_count": 17,
   "metadata": {},
   "outputs": [],
   "source": [
    "# TEST (8)\n",
    "assert type(df_aggregated_biased) is pd.DataFrame\n",
    "assert (\n",
    "    df_aggregated_biased.sort_values(\"treatment\")[\"conversion_rate\"][0]\n",
    "    < df_aggregated.sort_values(\"treatment\")[\"conversion_rate\"][0]\n",
    "), \"conversion_rate drops in controll due to bias\"\n",
    "assert (\n",
    "    df_aggregated_biased.sort_values(\"treatment\")[\"conversion_rate\"][1]\n",
    "    > df_aggregated.sort_values(\"treatment\")[\"conversion_rate\"][1]\n",
    "), \"conversion_rate increase in treatment due to bias\"\n",
    "assert (\n",
    "    df_aggregated_biased.sort_values(\"treatment\")[\"spend_mean\"][1]\n",
    "    > df_aggregated.sort_values(\"treatment\")[\"spend_mean\"][1]\n",
    "), \"spend_mean increase in treatment due to bias\""
   ]
  },
  {
   "cell_type": "code",
   "execution_count": 18,
   "metadata": {},
   "outputs": [],
   "source": [
    "# Implement (9)\n",
    "ttest_result_biased = stats.ttest_ind(\n",
    "    df_biased.spend[df_biased[\"treatment\"] == 1],\n",
    "    df_biased.spend[df_biased[\"treatment\"] == 0]\n",
    ")\n",
    "pvalue_biased = float(ttest_result_biased.pvalue)"
   ]
  },
  {
   "cell_type": "code",
   "execution_count": 19,
   "metadata": {},
   "outputs": [
    {
     "data": {
      "text/plain": [
       "2.21319841336543e-08"
      ]
     },
     "execution_count": 19,
     "metadata": {},
     "output_type": "execute_result"
    }
   ],
   "source": [
    "pvalue_biased"
   ]
  },
  {
   "cell_type": "code",
   "execution_count": 20,
   "metadata": {},
   "outputs": [],
   "source": [
    "# TEST (9)\n",
    "assert type(pvalue_biased) is float\n",
    "assert pvalue_biased < 0.05  # バイアスがあるが有意という結果が出るはず\"\n",
    "assert pvalue_biased < ttest_result.pvalue  # バイアスのせいでp値が小さくなるはず"
   ]
  },
  {
   "cell_type": "markdown",
   "metadata": {},
   "source": [
    "# Part 2"
   ]
  },
  {
   "cell_type": "markdown",
   "metadata": {},
   "source": [
    "## Chapter 2.1"
   ]
  },
  {
   "cell_type": "markdown",
   "metadata": {},
   "source": [
    "### Section 2.1.1"
   ]
  },
  {
   "cell_type": "code",
   "execution_count": 21,
   "metadata": {},
   "outputs": [],
   "source": [
    "X_biased = df_biased[[\"treatment\", \"history\"]]\n",
    "y_biased = df_biased[\"spend\"]"
   ]
  },
  {
   "cell_type": "code",
   "execution_count": 22,
   "metadata": {},
   "outputs": [
    {
     "name": "stderr",
     "output_type": "stream",
     "text": [
      "/usr/local/var/pyenv/versions/anaconda3-5.3.1/lib/python3.7/site-packages/statsmodels/compat/pandas.py:49: FutureWarning: The Panel class is removed from pandas. Accessing it from the top-level namespace will also be removed in the next version\n",
      "  data_klasses = (pandas.Series, pandas.DataFrame, pandas.Panel)\n",
      "/usr/local/var/pyenv/versions/anaconda3-5.3.1/lib/python3.7/site-packages/numpy/core/fromnumeric.py:2542: FutureWarning: Method .ptp is deprecated and will be removed in a future version. Use numpy.ptp instead.\n",
      "  return ptp(axis=axis, out=out, **kwargs)\n"
     ]
    }
   ],
   "source": [
    "# Implement (6)\n",
    "import statsmodels.api as sm\n",
    "\n",
    "model_biased = sm.OLS(y_biased, sm.add_constant(X_biased))  # Adding intercept\n",
    "result_biased = model_biased.fit()\n",
    "beta_treatment_biased = float(result_biased.params[result_biased.params.index == \"treatment\"])\n",
    "pvalue_treatment_biased = float(result_biased.pvalues[result_biased.params.index == \"treatment\"])\n",
    "beta_history_biased = float(result_biased.params[result_biased.params.index == \"history\"])\n",
    "pvalue_history_biased = float(result_biased.pvalues[result_biased.params.index == \"history\"])"
   ]
  },
  {
   "cell_type": "code",
   "execution_count": 23,
   "metadata": {},
   "outputs": [
    {
     "data": {
      "text/html": [
       "<table class=\"simpletable\">\n",
       "<caption>OLS Regression Results</caption>\n",
       "<tr>\n",
       "  <th>Dep. Variable:</th>          <td>spend</td>      <th>  R-squared:         </th>  <td>   0.001</td>  \n",
       "</tr>\n",
       "<tr>\n",
       "  <th>Model:</th>                   <td>OLS</td>       <th>  Adj. R-squared:    </th>  <td>   0.001</td>  \n",
       "</tr>\n",
       "<tr>\n",
       "  <th>Method:</th>             <td>Least Squares</td>  <th>  F-statistic:       </th>  <td>   20.45</td>  \n",
       "</tr>\n",
       "<tr>\n",
       "  <th>Date:</th>             <td>Tue, 30 Jun 2020</td> <th>  Prob (F-statistic):</th>  <td>1.32e-09</td>  \n",
       "</tr>\n",
       "<tr>\n",
       "  <th>Time:</th>                 <td>21:47:21</td>     <th>  Log-Likelihood:    </th> <td>-1.3312e+05</td>\n",
       "</tr>\n",
       "<tr>\n",
       "  <th>No. Observations:</th>      <td> 31925</td>      <th>  AIC:               </th>  <td>2.663e+05</td> \n",
       "</tr>\n",
       "<tr>\n",
       "  <th>Df Residuals:</th>          <td> 31922</td>      <th>  BIC:               </th>  <td>2.663e+05</td> \n",
       "</tr>\n",
       "<tr>\n",
       "  <th>Df Model:</th>              <td>     2</td>      <th>                     </th>      <td> </td>     \n",
       "</tr>\n",
       "<tr>\n",
       "  <th>Covariance Type:</th>      <td>nonrobust</td>    <th>                     </th>      <td> </td>     \n",
       "</tr>\n",
       "</table>\n",
       "<table class=\"simpletable\">\n",
       "<tr>\n",
       "      <td></td>         <th>coef</th>     <th>std err</th>      <th>t</th>      <th>P>|t|</th>  <th>[0.025</th>    <th>0.975]</th>  \n",
       "</tr>\n",
       "<tr>\n",
       "  <th>const</th>     <td>    0.3413</td> <td>    0.147</td> <td>    2.327</td> <td> 0.020</td> <td>    0.054</td> <td>    0.629</td>\n",
       "</tr>\n",
       "<tr>\n",
       "  <th>treatment</th> <td>    0.9088</td> <td>    0.177</td> <td>    5.122</td> <td> 0.000</td> <td>    0.561</td> <td>    1.257</td>\n",
       "</tr>\n",
       "<tr>\n",
       "  <th>history</th>   <td>    0.0011</td> <td>    0.000</td> <td>    3.096</td> <td> 0.002</td> <td>    0.000</td> <td>    0.002</td>\n",
       "</tr>\n",
       "</table>\n",
       "<table class=\"simpletable\">\n",
       "<tr>\n",
       "  <th>Omnibus:</th>       <td>70760.532</td> <th>  Durbin-Watson:     </th>   <td>   2.002</td>   \n",
       "</tr>\n",
       "<tr>\n",
       "  <th>Prob(Omnibus):</th>  <td> 0.000</td>   <th>  Jarque-Bera (JB):  </th> <td>352134568.791</td>\n",
       "</tr>\n",
       "<tr>\n",
       "  <th>Skew:</th>           <td>20.807</td>   <th>  Prob(JB):          </th>   <td>    0.00</td>   \n",
       "</tr>\n",
       "<tr>\n",
       "  <th>Kurtosis:</th>       <td>515.825</td>  <th>  Cond. No.          </th>   <td>    833.</td>   \n",
       "</tr>\n",
       "</table><br/><br/>Warnings:<br/>[1] Standard Errors assume that the covariance matrix of the errors is correctly specified."
      ],
      "text/plain": [
       "<class 'statsmodels.iolib.summary.Summary'>\n",
       "\"\"\"\n",
       "                            OLS Regression Results                            \n",
       "==============================================================================\n",
       "Dep. Variable:                  spend   R-squared:                       0.001\n",
       "Model:                            OLS   Adj. R-squared:                  0.001\n",
       "Method:                 Least Squares   F-statistic:                     20.45\n",
       "Date:                Tue, 30 Jun 2020   Prob (F-statistic):           1.32e-09\n",
       "Time:                        21:47:21   Log-Likelihood:            -1.3312e+05\n",
       "No. Observations:               31925   AIC:                         2.663e+05\n",
       "Df Residuals:                   31922   BIC:                         2.663e+05\n",
       "Df Model:                           2                                         \n",
       "Covariance Type:            nonrobust                                         \n",
       "==============================================================================\n",
       "                 coef    std err          t      P>|t|      [0.025      0.975]\n",
       "------------------------------------------------------------------------------\n",
       "const          0.3413      0.147      2.327      0.020       0.054       0.629\n",
       "treatment      0.9088      0.177      5.122      0.000       0.561       1.257\n",
       "history        0.0011      0.000      3.096      0.002       0.000       0.002\n",
       "==============================================================================\n",
       "Omnibus:                    70760.532   Durbin-Watson:                   2.002\n",
       "Prob(Omnibus):                  0.000   Jarque-Bera (JB):        352134568.791\n",
       "Skew:                          20.807   Prob(JB):                         0.00\n",
       "Kurtosis:                     515.825   Cond. No.                         833.\n",
       "==============================================================================\n",
       "\n",
       "Warnings:\n",
       "[1] Standard Errors assume that the covariance matrix of the errors is correctly specified.\n",
       "\"\"\""
      ]
     },
     "execution_count": 23,
     "metadata": {},
     "output_type": "execute_result"
    }
   ],
   "source": [
    "result_biased.summary()"
   ]
  },
  {
   "cell_type": "code",
   "execution_count": 24,
   "metadata": {},
   "outputs": [],
   "source": [
    "# TEST (6)\n",
    "assert type(beta_treatment_biased) is float\n",
    "assert type(pvalue_treatment_biased) is float\n",
    "assert type(beta_history_biased) is float\n",
    "assert type(pvalue_history_biased) is float\n",
    "assert abs(beta_treatment_biased - 0.9026) < 1e-2\n",
    "assert pvalue_treatment_biased < 0.05  # 有意\n",
    "assert abs(beta_history_biased - 0.0010) < 1e-2"
   ]
  },
  {
   "cell_type": "markdown",
   "metadata": {},
   "source": [
    "## Chapter 2.2"
   ]
  },
  {
   "cell_type": "markdown",
   "metadata": {},
   "source": [
    "### Section 2.2.1"
   ]
  },
  {
   "cell_type": "code",
   "execution_count": 25,
   "metadata": {},
   "outputs": [],
   "source": [
    "X = df_male[[\"treatment\"]]\n",
    "y = df_male[\"spend\"]\n",
    "\n",
    "X_biased = df_biased[[\"treatment\"]]\n",
    "y_biased = df_biased[\"spend\"]\n",
    "\n",
    "X_biased_mreg = df_biased[[\"treatment\", \"recency\", \"channel\", \"history\"]].copy()\n",
    "X_biased_mreg[\"channel\"] = (X_biased_mreg[\"channel\"] == \"Web\").astype(int)  # 2種しかないカテゴリカル変数なのでバイナリに変換\n",
    "y_biased_mreg = df_biased[\"spend\"]"
   ]
  },
  {
   "cell_type": "code",
   "execution_count": 26,
   "metadata": {},
   "outputs": [],
   "source": [
    "# Implement (7)\n",
    "import statsmodels.api as sm\n",
    "\n",
    "model = sm.OLS(y, sm.add_constant(X))  # Adding intercept\n",
    "result = model.fit()\n",
    "beta_treatment = float(result.params[result.params.index == \"treatment\"])\n",
    "pvalue_treatment = float(result.pvalues[result.params.index == \"treatment\"])\n",
    "\n",
    "model_biased = sm.OLS(y_biased, sm.add_constant(X_biased))  # Adding intercept\n",
    "result_biased = model_biased.fit()\n",
    "beta_treatment_biased = float(result_biased.params[result_biased.params.index == \"treatment\"])\n",
    "pvalue_treatment_biased = float(result_biased.pvalues[result_biased.params.index == \"treatment\"])\n",
    "\n",
    "model_biased_mreg = sm.OLS(y_biased_mreg, sm.add_constant(X_biased_mreg))  # Adding intercept\n",
    "result_biased_mreg = model_biased_mreg.fit()\n",
    "beta_treatment_biased_mreg = float(result_biased_mreg.params[result_biased_mreg.params.index == \"treatment\"])\n",
    "pvalue_treatment_biased_mreg = float(result_biased_mreg.pvalues[result_biased_mreg.params.index == \"treatment\"])"
   ]
  },
  {
   "cell_type": "code",
   "execution_count": 27,
   "metadata": {},
   "outputs": [
    {
     "data": {
      "text/plain": [
       "(0.7698271558945372, 0.9837495599336821, 0.8618682527375361)"
      ]
     },
     "execution_count": 27,
     "metadata": {},
     "output_type": "execute_result"
    }
   ],
   "source": [
    "beta_treatment, beta_treatment_biased, beta_treatment_biased_mreg"
   ]
  },
  {
   "cell_type": "code",
   "execution_count": 28,
   "metadata": {},
   "outputs": [],
   "source": [
    "# TEST (7)\n",
    "assert type(beta_treatment) is float\n",
    "assert type(pvalue_treatment) is float\n",
    "assert type(beta_treatment_biased) is float\n",
    "assert type(pvalue_treatment_biased) is float\n",
    "assert type(beta_treatment_biased_mreg) is float\n",
    "assert type(pvalue_treatment_biased_mreg) is float\n",
    "\n",
    "assert abs(beta_treatment - 0.770) < 1e-2\n",
    "gain_from_df_aggregated = df_aggregated[\"spend_mean\"][1] - df_aggregated[\"spend_mean\"][0]\n",
    "assert abs(beta_treatment - gain_from_df_aggregated) < 1e-8  # 1章の結果と同じになるはず\n",
    "assert pvalue_treatment < 0.05  # 有意\n",
    "assert abs(beta_treatment_biased - 0.979) < 1e-2  # バイアスによりbeta_treatmentより大きくなる\n",
    "assert pvalue_treatment_biased < 0.05  # 有意\n",
    "assert beta_treatment_biased_mreg < beta_treatment_biased  # 共変量を加えてバイアスの影響が小さくなる"
   ]
  },
  {
   "cell_type": "markdown",
   "metadata": {},
   "source": [
    "### Section 2.2.3"
   ]
  },
  {
   "cell_type": "code",
   "execution_count": 29,
   "metadata": {},
   "outputs": [],
   "source": [
    "X_biased_omit = df_biased[[\"treatment\", \"recency\", \"channel\"]].copy()  # historyを抜いたdf\n",
    "X_biased_omit[\"channel\"] = (X_biased_omit[\"channel\"] == \"Web\").astype(int)  # 2種しかないカテゴリカル変数なのでバイナリに変換\n",
    "y_biased_omit = df_biased[\"spend\"]\n",
    "\n",
    "X_biased = df_biased[[\"treatment\", \"recency\", \"channel\", \"history\"]].copy()\n",
    "X_biased[\"channel\"] = (X_biased[\"channel\"] == \"Web\").astype(int)  # 2種しかないカテゴリカル変数なのでバイナリに変換\n",
    "y_biased = df_biased[\"spend\"]\n",
    "\n",
    "X_biased_history = df_biased[[\"treatment\", \"recency\", \"channel\"]].copy()\n",
    "X_biased_history[\"channel\"] = (X_biased_history[\"channel\"] == \"Web\").astype(int)  # 2種しかないカテゴリカル変数なのでバイナリに変換\n",
    "y_biased_history = df_biased[\"history\"]"
   ]
  },
  {
   "cell_type": "code",
   "execution_count": 30,
   "metadata": {},
   "outputs": [],
   "source": [
    "# Implement (9)\n",
    "\n",
    "import statsmodels.api as sm\n",
    "\n",
    "model = sm.OLS(y_biased_omit, sm.add_constant(X_biased_omit))  # Adding intercept\n",
    "result = model.fit()\n",
    "alpha_treatment = float(result.params[result.params.index == \"treatment\"])\n",
    "\n",
    "model = sm.OLS(y_biased, sm.add_constant(X_biased))  # Adding intercept\n",
    "result = model.fit()\n",
    "beta_treatment = float(result.params[result.params.index == \"treatment\"])\n",
    "beta_history = float(result.params[result.params.index == \"history\"])\n",
    "\n",
    "model = sm.OLS(y_biased_history, sm.add_constant(X_biased_history))  # Adding intercept\n",
    "result = model.fit()\n",
    "gamma_treatment = float(result.params[result.params.index == \"treatment\"])"
   ]
  },
  {
   "cell_type": "code",
   "execution_count": 31,
   "metadata": {},
   "outputs": [
    {
     "data": {
      "text/plain": [
       "(0.04300977779866467, 0.0430097777986469)"
      ]
     },
     "execution_count": 31,
     "metadata": {},
     "output_type": "execute_result"
    }
   ],
   "source": [
    "beta_history * gamma_treatment, (alpha_treatment - beta_treatment)"
   ]
  },
  {
   "cell_type": "code",
   "execution_count": 32,
   "metadata": {},
   "outputs": [],
   "source": [
    "# TEST (9)\n",
    "assert type(alpha_treatment) is float  # モデルAにおけるtreatmentの係数\n",
    "assert type(beta_treatment) is float  # モデルBにおけるtreatmentの係数\n",
    "assert type(beta_history) is float  # モデルBにおけるhistoryの係数\n",
    "assert type(gamma_treatment) is float  # モデルCにおけるtreatmentの係数\n",
    "\n",
    "assert abs(beta_history * gamma_treatment - (alpha_treatment - beta_treatment)) < 1e-8  # 知られている式"
   ]
  },
  {
   "cell_type": "markdown",
   "metadata": {},
   "source": [
    "### Section 2.2.7"
   ]
  },
  {
   "cell_type": "code",
   "execution_count": 33,
   "metadata": {},
   "outputs": [],
   "source": [
    "X_biased = df_biased[[\"treatment\", \"recency\", \"channel\", \"history\"]].copy()\n",
    "X_biased[\"channel\"] = (X_biased[\"channel\"] == \"Web\").astype(int)  # 2種しかないカテゴリカル変数なのでバイナリに変換\n",
    "y_biased = df_biased[\"spend\"]\n",
    "\n",
    "X_biased_visit = df_biased[[\"treatment\", \"recency\", \"channel\", \"history\", \"visit\"]].copy()\n",
    "X_biased_visit[\"channel\"] = (X_biased_visit[\"channel\"] == \"Web\").astype(int)  # 2種しかないカテゴリカル変数なのでバイナリに変換\n",
    "y_biased_visit = df_biased[\"spend\"]"
   ]
  },
  {
   "cell_type": "code",
   "execution_count": 34,
   "metadata": {},
   "outputs": [],
   "source": [
    "# Implement (10)\n",
    "r, p = stats.pearsonr(X_biased_visit[\"visit\"], y_biased_visit)\n",
    "cor_spend_visit, pvalue_spend_visit = float(r), float(p)\n",
    "\n",
    "model = sm.OLS(y_biased, sm.add_constant(X_biased))  # Adding intercept\n",
    "result = model.fit()\n",
    "beta_treatment_biased = float(result.params[result.params.index == \"treatment\"])\n",
    "\n",
    "model = sm.OLS(y_biased_visit, sm.add_constant(X_biased_visit))  # Adding intercept\n",
    "result = model.fit()\n",
    "beta_treatment_biased_visit = float(result.params[result.params.index == \"treatment\"])"
   ]
  },
  {
   "cell_type": "code",
   "execution_count": 35,
   "metadata": {},
   "outputs": [
    {
     "data": {
      "text/plain": [
       "(0.16595931934315053, 6.706529778181228e-196)"
      ]
     },
     "execution_count": 35,
     "metadata": {},
     "output_type": "execute_result"
    }
   ],
   "source": [
    "cor_spend_visit, pvalue_spend_visit"
   ]
  },
  {
   "cell_type": "code",
   "execution_count": 36,
   "metadata": {},
   "outputs": [
    {
     "data": {
      "text/plain": [
       "(0.8618682527375361, 0.27602780187309517)"
      ]
     },
     "execution_count": 36,
     "metadata": {},
     "output_type": "execute_result"
    }
   ],
   "source": [
    "beta_treatment_biased, beta_treatment_biased_visit"
   ]
  },
  {
   "cell_type": "code",
   "execution_count": 37,
   "metadata": {},
   "outputs": [],
   "source": [
    "# TEST (10)\n",
    "assert type(cor_spend_visit) is float  # spendとvisitの相関係数\n",
    "assert type(pvalue_spend_visit) is float  # spendとvisitの相関のp値\n",
    "assert type(beta_treatment_biased) is float  # treatmentの効果\n",
    "assert type(beta_treatment_biased_visit) is float  # treatmentの効果(visitが変数に入る場合)\n",
    "\n",
    "assert abs(cor_spend_visit - 0.144) < 5e-2\n",
    "assert pvalue_spend_visit < 0.05  # 有意\n",
    "\n",
    "assert beta_treatment_biased > beta_treatment_biased_visit  # visitのせいでtreatmentの介入効果が低く見える"
   ]
  },
  {
   "cell_type": "code",
   "execution_count": 38,
   "metadata": {},
   "outputs": [
    {
     "data": {
      "text/plain": [
       "(0.16595931934315053, 6.706529778181228e-196)"
      ]
     },
     "execution_count": 38,
     "metadata": {},
     "output_type": "execute_result"
    }
   ],
   "source": [
    "cor_spend_visit, pvalue_spend_visit"
   ]
  },
  {
   "cell_type": "code",
   "execution_count": null,
   "metadata": {},
   "outputs": [],
   "source": []
  }
 ],
 "metadata": {
  "kernelspec": {
   "display_name": "Python 3",
   "language": "python",
   "name": "python3"
  },
  "language_info": {
   "codemirror_mode": {
    "name": "ipython",
    "version": 3
   },
   "file_extension": ".py",
   "mimetype": "text/x-python",
   "name": "python",
   "nbconvert_exporter": "python",
   "pygments_lexer": "ipython3",
   "version": "3.7.2"
  }
 },
 "nbformat": 4,
 "nbformat_minor": 2
}
