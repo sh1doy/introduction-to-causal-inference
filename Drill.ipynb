{
 "cells": [
  {
   "cell_type": "markdown",
   "metadata": {},
   "source": [
    "# Part 1"
   ]
  },
  {
   "cell_type": "markdown",
   "metadata": {},
   "source": [
    "## Chapter 1.4"
   ]
  },
  {
   "cell_type": "markdown",
   "metadata": {},
   "source": [
    "### Section 1.4.1"
   ]
  },
  {
   "cell_type": "code",
   "execution_count": null,
   "metadata": {},
   "outputs": [],
   "source": [
    "import pandas as pd\n",
    "from scipy import stats\n",
    "import joblib\n",
    "import numpy as np\n",
    "from collections import namedtuple"
   ]
  },
  {
   "cell_type": "code",
   "execution_count": null,
   "metadata": {},
   "outputs": [],
   "source": [
    "df = pd.read_csv('http://www.minethatdata.com/Kevin_Hillstrom_MineThatData_E-MailAnalytics_DataMiningChallenge_2008.03.20.csv')"
   ]
  },
  {
   "cell_type": "code",
   "execution_count": null,
   "metadata": {},
   "outputs": [],
   "source": [
    "df.head()"
   ]
  },
  {
   "cell_type": "code",
   "execution_count": null,
   "metadata": {},
   "outputs": [],
   "source": [
    "# Implement (4)\n"
   ]
  },
  {
   "cell_type": "code",
   "execution_count": null,
   "metadata": {},
   "outputs": [],
   "source": [
    "df_male.head()"
   ]
  },
  {
   "cell_type": "code",
   "execution_count": null,
   "metadata": {},
   "outputs": [],
   "source": [
    "# TEST (4)\n",
    "assert type(df_male) is pd.DataFrame  # 女性向けメールが配信されなかったグループのみ含むdf\n",
    "assert \"Womens E-Mail\" not in df_male[\"segment\"]  # 女性向けメールが配信されていない\n",
    "assert set(df_male[df_male[\"treatment\"] == 1][\"segment\"]) == set([\"Mens E-Mail\"])  # treatmentには男性向けメールが配信されたグループのみ\n",
    "assert set(df_male.keys()) == set(df.keys()).union(set([\"treatment\"]))"
   ]
  },
  {
   "cell_type": "markdown",
   "metadata": {},
   "source": [
    "### Section 1.4.2"
   ]
  },
  {
   "cell_type": "code",
   "execution_count": null,
   "metadata": {},
   "outputs": [],
   "source": [
    "# Implement (5)\n"
   ]
  },
  {
   "cell_type": "code",
   "execution_count": null,
   "metadata": {},
   "outputs": [],
   "source": [
    "df_aggregated"
   ]
  },
  {
   "cell_type": "code",
   "execution_count": null,
   "metadata": {},
   "outputs": [],
   "source": [
    "# TEST (5)\n",
    "assert type(df_aggregated) is pd.DataFrame  # 集計されたdf\n",
    "assert set([\"conversion_rate\", \"spend_mean\", \"count\"]).issubset(df_aggregated.keys())  # 指定のカラムを持つ\n",
    "assert (df_aggregated.sort_values(\"treatment\")[\"conversion_rate\"].values - np.array([0.005726, 0.01253])).sum() < 1e-4\n",
    "assert (df_aggregated.sort_values(\"treatment\")[\"spend_mean\"].values - np.array([0.652789, 1.422617])).sum() < 1e-4\n",
    "assert (df_aggregated.sort_values(\"treatment\")[\"count\"].values - np.array([21306, 21307])).sum() < 1e-4"
   ]
  },
  {
   "cell_type": "code",
   "execution_count": null,
   "metadata": {},
   "outputs": [],
   "source": [
    "# Implement (6)\n"
   ]
  },
  {
   "cell_type": "code",
   "execution_count": null,
   "metadata": {},
   "outputs": [],
   "source": [
    "pvalue"
   ]
  },
  {
   "cell_type": "code",
   "execution_count": null,
   "metadata": {},
   "outputs": [],
   "source": [
    "# TEST (6)\n",
    "assert type(pvalue) is float  # result of stats.ttest_ind\n",
    "assert pvalue < 0.05  # 有意"
   ]
  },
  {
   "cell_type": "markdown",
   "metadata": {},
   "source": [
    "### Section 1.4.3"
   ]
  },
  {
   "cell_type": "code",
   "execution_count": null,
   "metadata": {},
   "outputs": [],
   "source": [
    "# Implement (7) - No tests. これ以降の乱数の影響をなくすため\n",
    "bias = (df_male.history > 300) | (df_male.recency < 6) | (df_male.channel=='Multichannel')\n",
    "df_biased = pd.concat([\n",
    "    df_male[(df_male[\"treatment\"] == 0) & bias].sample(frac=0.5, random_state=1),\n",
    "    df_male[(df_male[\"treatment\"] == 0) & ~bias],\n",
    "    df_male[(df_male[\"treatment\"] == 1) & bias],\n",
    "    df_male[(df_male[\"treatment\"] == 1) & ~bias].sample(frac=0.5, random_state=1),\n",
    "], ignore_index=True)"
   ]
  },
  {
   "cell_type": "code",
   "execution_count": null,
   "metadata": {},
   "outputs": [],
   "source": [
    "df_biased.head()"
   ]
  },
  {
   "cell_type": "code",
   "execution_count": null,
   "metadata": {},
   "outputs": [],
   "source": [
    "# Implement (8)\n"
   ]
  },
  {
   "cell_type": "code",
   "execution_count": null,
   "metadata": {},
   "outputs": [],
   "source": [
    "df_aggregated_biased"
   ]
  },
  {
   "cell_type": "code",
   "execution_count": null,
   "metadata": {},
   "outputs": [],
   "source": [
    "# TEST (8)\n",
    "assert type(df_aggregated_biased) is pd.DataFrame\n",
    "assert (\n",
    "    df_aggregated_biased.sort_values(\"treatment\")[\"conversion_rate\"][0]\n",
    "    < df_aggregated.sort_values(\"treatment\")[\"conversion_rate\"][0]\n",
    "), \"conversion_rate drops in controll due to bias\"\n",
    "assert (\n",
    "    df_aggregated_biased.sort_values(\"treatment\")[\"conversion_rate\"][1]\n",
    "    > df_aggregated.sort_values(\"treatment\")[\"conversion_rate\"][1]\n",
    "), \"conversion_rate increase in treatment due to bias\"\n",
    "assert (\n",
    "    df_aggregated_biased.sort_values(\"treatment\")[\"spend_mean\"][1]\n",
    "    > df_aggregated.sort_values(\"treatment\")[\"spend_mean\"][1]\n",
    "), \"spend_mean increase in treatment due to bias\""
   ]
  },
  {
   "cell_type": "code",
   "execution_count": null,
   "metadata": {},
   "outputs": [],
   "source": [
    "# Implement (9)\n"
   ]
  },
  {
   "cell_type": "code",
   "execution_count": null,
   "metadata": {},
   "outputs": [],
   "source": [
    "pvalue_biased"
   ]
  },
  {
   "cell_type": "code",
   "execution_count": null,
   "metadata": {},
   "outputs": [],
   "source": [
    "# TEST (9)\n",
    "assert type(pvalue_biased) is float\n",
    "assert pvalue_biased < 0.05  # バイアスがあるが有意という結果が出るはず\"\n",
    "assert pvalue_biased < ttest_result.pvalue  # バイアスのせいでp値が小さくなるはず"
   ]
  },
  {
   "cell_type": "markdown",
   "metadata": {},
   "source": [
    "# Part 2"
   ]
  },
  {
   "cell_type": "markdown",
   "metadata": {},
   "source": [
    "## Chapter 2.1"
   ]
  },
  {
   "cell_type": "markdown",
   "metadata": {},
   "source": [
    "### Section 2.1.1"
   ]
  },
  {
   "cell_type": "code",
   "execution_count": null,
   "metadata": {},
   "outputs": [],
   "source": [
    "X_biased = df_biased[[\"treatment\", \"history\"]]\n",
    "y_biased = df_biased[\"spend\"]"
   ]
  },
  {
   "cell_type": "code",
   "execution_count": null,
   "metadata": {},
   "outputs": [],
   "source": [
    "# Implement (6)\n"
   ]
  },
  {
   "cell_type": "code",
   "execution_count": null,
   "metadata": {},
   "outputs": [],
   "source": [
    "result_biased.summary()"
   ]
  },
  {
   "cell_type": "code",
   "execution_count": null,
   "metadata": {},
   "outputs": [],
   "source": [
    "# TEST (6)\n",
    "assert type(beta_treatment_biased) is float\n",
    "assert type(pvalue_treatment_biased) is float\n",
    "assert type(beta_history_biased) is float\n",
    "assert type(pvalue_history_biased) is float\n",
    "assert abs(beta_treatment_biased - 0.9026) < 1e-2\n",
    "assert pvalue_treatment_biased < 0.05  # 有意\n",
    "assert abs(beta_history_biased - 0.0010) < 1e-2"
   ]
  },
  {
   "cell_type": "markdown",
   "metadata": {},
   "source": [
    "## Chapter 2.2"
   ]
  },
  {
   "cell_type": "markdown",
   "metadata": {},
   "source": [
    "### Section 2.2.1"
   ]
  },
  {
   "cell_type": "code",
   "execution_count": null,
   "metadata": {},
   "outputs": [],
   "source": [
    "X = df_male[[\"treatment\"]]\n",
    "y = df_male[\"spend\"]\n",
    "\n",
    "X_biased = df_biased[[\"treatment\"]]\n",
    "y_biased = df_biased[\"spend\"]\n",
    "\n",
    "X_biased_mreg = df_biased[[\"treatment\", \"recency\", \"channel\", \"history\"]].copy()\n",
    "X_biased_mreg[\"channel\"] = (X_biased_mreg[\"channel\"] == \"Web\").astype(int)  # 2種しかないカテゴリカル変数なのでバイナリに変換\n",
    "y_biased_mreg = df_biased[\"spend\"]"
   ]
  },
  {
   "cell_type": "code",
   "execution_count": null,
   "metadata": {},
   "outputs": [],
   "source": [
    "# Implement (7)\n"
   ]
  },
  {
   "cell_type": "code",
   "execution_count": null,
   "metadata": {},
   "outputs": [],
   "source": [
    "beta_treatment, beta_treatment_biased, beta_treatment_biased_mreg"
   ]
  },
  {
   "cell_type": "code",
   "execution_count": null,
   "metadata": {},
   "outputs": [],
   "source": [
    "# TEST (7)\n",
    "assert type(beta_treatment) is float\n",
    "assert type(pvalue_treatment) is float\n",
    "assert type(beta_treatment_biased) is float\n",
    "assert type(pvalue_treatment_biased) is float\n",
    "assert type(beta_treatment_biased_mreg) is float\n",
    "assert type(pvalue_treatment_biased_mreg) is float\n",
    "\n",
    "assert abs(beta_treatment - 0.770) < 1e-2\n",
    "gain_from_df_aggregated = df_aggregated[\"spend_mean\"][1] - df_aggregated[\"spend_mean\"][0]\n",
    "assert abs(beta_treatment - gain_from_df_aggregated) < 1e-8  # 1章の結果と同じになるはず\n",
    "assert pvalue_treatment < 0.05  # 有意\n",
    "assert abs(beta_treatment_biased - 0.979) < 1e-2  # バイアスによりbeta_treatmentより大きくなる\n",
    "assert pvalue_treatment_biased < 0.05  # 有意\n",
    "assert beta_treatment_biased_mreg < beta_treatment_biased  # 共変量を加えてバイアスの影響が小さくなる"
   ]
  },
  {
   "cell_type": "markdown",
   "metadata": {},
   "source": [
    "### Section 2.2.3"
   ]
  },
  {
   "cell_type": "code",
   "execution_count": null,
   "metadata": {},
   "outputs": [],
   "source": [
    "X_biased_omit = df_biased[[\"treatment\", \"recency\", \"channel\"]].copy()  # historyを抜いたdf\n",
    "X_biased_omit[\"channel\"] = (X_biased_omit[\"channel\"] == \"Web\").astype(int)  # 2種しかないカテゴリカル変数なのでバイナリに変換\n",
    "y_biased_omit = df_biased[\"spend\"]\n",
    "\n",
    "X_biased = df_biased[[\"treatment\", \"recency\", \"channel\", \"history\"]].copy()\n",
    "X_biased[\"channel\"] = (X_biased[\"channel\"] == \"Web\").astype(int)  # 2種しかないカテゴリカル変数なのでバイナリに変換\n",
    "y_biased = df_biased[\"spend\"]\n",
    "\n",
    "X_biased_history = df_biased[[\"treatment\", \"recency\", \"channel\"]].copy()\n",
    "X_biased_history[\"channel\"] = (X_biased_history[\"channel\"] == \"Web\").astype(int)  # 2種しかないカテゴリカル変数なのでバイナリに変換\n",
    "y_biased_history = df_biased[\"history\"]"
   ]
  },
  {
   "cell_type": "code",
   "execution_count": null,
   "metadata": {},
   "outputs": [],
   "source": [
    "# Implement (9)\n"
   ]
  },
  {
   "cell_type": "code",
   "execution_count": null,
   "metadata": {},
   "outputs": [],
   "source": [
    "beta_history * gamma_treatment, (alpha_treatment - beta_treatment)"
   ]
  },
  {
   "cell_type": "code",
   "execution_count": null,
   "metadata": {},
   "outputs": [],
   "source": [
    "# TEST (9)\n",
    "assert type(alpha_treatment) is float  # モデルAにおけるtreatmentの係数\n",
    "assert type(beta_treatment) is float  # モデルBにおけるtreatmentの係数\n",
    "assert type(beta_history) is float  # モデルBにおけるhistoryの係数\n",
    "assert type(gamma_treatment) is float  # モデルCにおけるtreatmentの係数\n",
    "\n",
    "assert abs(beta_history * gamma_treatment - (alpha_treatment - beta_treatment)) < 1e-8  # 知られている式"
   ]
  },
  {
   "cell_type": "markdown",
   "metadata": {},
   "source": [
    "### Section 2.2.7"
   ]
  },
  {
   "cell_type": "code",
   "execution_count": null,
   "metadata": {},
   "outputs": [],
   "source": [
    "X_biased = df_biased[[\"treatment\", \"recency\", \"channel\", \"history\"]].copy()\n",
    "X_biased[\"channel\"] = (X_biased[\"channel\"] == \"Web\").astype(int)  # 2種しかないカテゴリカル変数なのでバイナリに変換\n",
    "y_biased = df_biased[\"spend\"]\n",
    "\n",
    "X_biased_visit = df_biased[[\"treatment\", \"recency\", \"channel\", \"history\", \"visit\"]].copy()\n",
    "X_biased_visit[\"channel\"] = (X_biased_visit[\"channel\"] == \"Web\").astype(int)  # 2種しかないカテゴリカル変数なのでバイナリに変換\n",
    "y_biased_visit = df_biased[\"spend\"]"
   ]
  },
  {
   "cell_type": "code",
   "execution_count": null,
   "metadata": {},
   "outputs": [],
   "source": [
    "# Implement (10)\n"
   ]
  },
  {
   "cell_type": "code",
   "execution_count": null,
   "metadata": {},
   "outputs": [],
   "source": [
    "cor_spend_visit, pvalue_spend_visit"
   ]
  },
  {
   "cell_type": "code",
   "execution_count": null,
   "metadata": {},
   "outputs": [],
   "source": [
    "beta_treatment_biased, beta_treatment_biased_visit"
   ]
  },
  {
   "cell_type": "code",
   "execution_count": null,
   "metadata": {},
   "outputs": [],
   "source": [
    "# TEST (10)\n",
    "assert type(cor_spend_visit) is float  # spendとvisitの相関係数\n",
    "assert type(pvalue_spend_visit) is float  # spendとvisitの相関のp値\n",
    "assert type(beta_treatment_biased) is float  # treatmentの効果\n",
    "assert type(beta_treatment_biased_visit) is float  # treatmentの効果(visitが変数に入る場合)\n",
    "\n",
    "assert abs(cor_spend_visit - 0.144) < 5e-2\n",
    "assert pvalue_spend_visit < 0.05  # 有意\n",
    "\n",
    "assert beta_treatment_biased > beta_treatment_biased_visit  # visitのせいでtreatmentの介入効果が低く見える"
   ]
  },
  {
   "cell_type": "code",
   "execution_count": null,
   "metadata": {},
   "outputs": [],
   "source": [
    "cor_spend_visit, pvalue_spend_visit"
   ]
  },
  {
   "cell_type": "code",
   "execution_count": null,
   "metadata": {},
   "outputs": [],
   "source": []
  }
 ],
 "metadata": {
  "kernelspec": {
   "display_name": "Python 3",
   "language": "python",
   "name": "python3"
  },
  "language_info": {
   "codemirror_mode": {
    "name": "ipython",
    "version": 3
   },
   "file_extension": ".py",
   "mimetype": "text/x-python",
   "name": "python",
   "nbconvert_exporter": "python",
   "pygments_lexer": "ipython3",
   "version": "3.7.2"
  }
 },
 "nbformat": 4,
 "nbformat_minor": 2
}
